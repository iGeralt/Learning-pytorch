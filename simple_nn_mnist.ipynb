{
 "metadata": {
  "language_info": {
   "codemirror_mode": {
    "name": "ipython",
    "version": 3
   },
   "file_extension": ".py",
   "mimetype": "text/x-python",
   "name": "python",
   "nbconvert_exporter": "python",
   "pygments_lexer": "ipython3",
   "version": "3.8.5-final"
  },
  "orig_nbformat": 2,
  "kernelspec": {
   "name": "python_defaultSpec_1600462054930",
   "display_name": "Python 3.8.5 64-bit"
  }
 },
 "nbformat": 4,
 "nbformat_minor": 2,
 "cells": [
  {
   "cell_type": "code",
   "execution_count": 1,
   "metadata": {},
   "outputs": [],
   "source": [
    "import torch\n",
    "import torchvision\n",
    "import torch.nn as nn\n",
    "import torch.nn.functional as F\n",
    "import torchvision.transforms as transforms\n",
    "import time"
   ]
  },
  {
   "cell_type": "code",
   "execution_count": 2,
   "metadata": {},
   "outputs": [
    {
     "output_type": "execute_result",
     "data": {
      "text/plain": "device(type='cuda')"
     },
     "metadata": {},
     "execution_count": 2
    }
   ],
   "source": [
    "device = torch.device('cuda' if torch.cuda.is_available() else 'cpu')\n",
    "device"
   ]
  },
  {
   "cell_type": "code",
   "execution_count": 3,
   "metadata": {
    "tags": []
   },
   "outputs": [],
   "source": [
    "# Prepare dataset\n",
    "transform = transforms.Compose([transforms.ToTensor(),transforms.Normalize(mean=0.1307,std=0.3081)])\n",
    "\n",
    "train_set = torchvision.datasets.MNIST(root = \"./dataset\",train=True,download=False,transform=transform)  #Make download == True to download dataset\n",
    "test_set = torchvision.datasets.MNIST(root =\"./dataset\",train=False,download=False,transform=transform)\n",
    "\n",
    "train_loader = torch.utils.data.DataLoader(train_set,batch_size=32,shuffle=True,num_workers=4)\n",
    "test_loader = torch.utils.data.DataLoader(test_set,batch_size=32,shuffle=True,num_workers=4)"
   ]
  },
  {
   "cell_type": "code",
   "execution_count": 4,
   "metadata": {},
   "outputs": [],
   "source": [
    "# Building neural net\n",
    "class Net(nn.Module):\n",
    "    def __init__(self):\n",
    "        super(Net,self).__init__()\n",
    "        self.fc1 = nn.Linear(28*28*1,500)\n",
    "        self.fc2 = nn.Linear(500,10)\n",
    "    \n",
    "    def forward(self,x):\n",
    "        x = F.relu(self.fc1(x))\n",
    "        x = F.relu(self.fc2(x))\n",
    "        return x"
   ]
  },
  {
   "cell_type": "code",
   "execution_count": 6,
   "metadata": {
    "tags": []
   },
   "outputs": [
    {
     "output_type": "stream",
     "name": "stdout",
     "text": "Train Epoch: 0 [0/60000 (0%)]\tLoss: 2.313573 \t Elapsed time :0.45 s\nTrain Epoch: 0 [3200/60000 (5%)]\tLoss: 0.400994 \t Elapsed time :0.65 s\nTrain Epoch: 0 [6400/60000 (11%)]\tLoss: 0.387404 \t Elapsed time :0.88 s\nTrain Epoch: 0 [9600/60000 (16%)]\tLoss: 0.211027 \t Elapsed time :1.13 s\nTrain Epoch: 0 [12800/60000 (21%)]\tLoss: 0.327820 \t Elapsed time :1.33 s\nTrain Epoch: 0 [16000/60000 (27%)]\tLoss: 0.192007 \t Elapsed time :1.55 s\nTrain Epoch: 0 [19200/60000 (32%)]\tLoss: 0.141380 \t Elapsed time :1.74 s\nTrain Epoch: 0 [22400/60000 (37%)]\tLoss: 0.544283 \t Elapsed time :1.95 s\nTrain Epoch: 0 [25600/60000 (43%)]\tLoss: 0.148879 \t Elapsed time :2.15 s\nTrain Epoch: 0 [28800/60000 (48%)]\tLoss: 0.090868 \t Elapsed time :2.36 s\nTrain Epoch: 0 [32000/60000 (53%)]\tLoss: 0.109127 \t Elapsed time :2.58 s\nTrain Epoch: 0 [35200/60000 (59%)]\tLoss: 0.359023 \t Elapsed time :2.78 s\nTrain Epoch: 0 [38400/60000 (64%)]\tLoss: 0.052550 \t Elapsed time :3.00 s\nTrain Epoch: 0 [41600/60000 (69%)]\tLoss: 0.120808 \t Elapsed time :3.20 s\nTrain Epoch: 0 [44800/60000 (75%)]\tLoss: 0.359490 \t Elapsed time :3.41 s\nTrain Epoch: 0 [48000/60000 (80%)]\tLoss: 0.278880 \t Elapsed time :3.63 s\nTrain Epoch: 0 [51200/60000 (85%)]\tLoss: 0.237950 \t Elapsed time :3.84 s\nTrain Epoch: 0 [54400/60000 (91%)]\tLoss: 0.136757 \t Elapsed time :4.05 s\nTrain Epoch: 0 [57600/60000 (96%)]\tLoss: 0.152693 \t Elapsed time :4.26 s\nTrain Epoch: 1 [0/60000 (0%)]\tLoss: 0.230094 \t Elapsed time :0.08 s\nTrain Epoch: 1 [3200/60000 (5%)]\tLoss: 0.057007 \t Elapsed time :0.29 s\nTrain Epoch: 1 [6400/60000 (11%)]\tLoss: 0.122225 \t Elapsed time :0.50 s\nTrain Epoch: 1 [9600/60000 (16%)]\tLoss: 0.057513 \t Elapsed time :0.71 s\nTrain Epoch: 1 [12800/60000 (21%)]\tLoss: 0.168864 \t Elapsed time :0.91 s\nTrain Epoch: 1 [16000/60000 (27%)]\tLoss: 0.045841 \t Elapsed time :1.15 s\nTrain Epoch: 1 [19200/60000 (32%)]\tLoss: 0.101809 \t Elapsed time :1.35 s\nTrain Epoch: 1 [22400/60000 (37%)]\tLoss: 0.095807 \t Elapsed time :1.57 s\nTrain Epoch: 1 [25600/60000 (43%)]\tLoss: 0.036997 \t Elapsed time :1.78 s\nTrain Epoch: 1 [28800/60000 (48%)]\tLoss: 0.020091 \t Elapsed time :2.00 s\nTrain Epoch: 1 [32000/60000 (53%)]\tLoss: 0.082656 \t Elapsed time :2.23 s\nTrain Epoch: 1 [35200/60000 (59%)]\tLoss: 0.058938 \t Elapsed time :2.44 s\nTrain Epoch: 1 [38400/60000 (64%)]\tLoss: 0.096733 \t Elapsed time :2.64 s\nTrain Epoch: 1 [41600/60000 (69%)]\tLoss: 0.057679 \t Elapsed time :2.85 s\nTrain Epoch: 1 [44800/60000 (75%)]\tLoss: 0.087988 \t Elapsed time :3.05 s\nTrain Epoch: 1 [48000/60000 (80%)]\tLoss: 0.263575 \t Elapsed time :3.27 s\nTrain Epoch: 1 [51200/60000 (85%)]\tLoss: 0.049769 \t Elapsed time :3.47 s\nTrain Epoch: 1 [54400/60000 (91%)]\tLoss: 0.290578 \t Elapsed time :3.69 s\nTrain Epoch: 1 [57600/60000 (96%)]\tLoss: 0.250487 \t Elapsed time :3.89 s\nTrain Epoch: 2 [0/60000 (0%)]\tLoss: 0.018991 \t Elapsed time :0.08 s\nTrain Epoch: 2 [3200/60000 (5%)]\tLoss: 0.388895 \t Elapsed time :0.29 s\nTrain Epoch: 2 [6400/60000 (11%)]\tLoss: 0.074851 \t Elapsed time :0.49 s\nTrain Epoch: 2 [9600/60000 (16%)]\tLoss: 0.057408 \t Elapsed time :0.71 s\nTrain Epoch: 2 [12800/60000 (21%)]\tLoss: 0.043939 \t Elapsed time :0.92 s\nTrain Epoch: 2 [16000/60000 (27%)]\tLoss: 0.199230 \t Elapsed time :1.15 s\nTrain Epoch: 2 [19200/60000 (32%)]\tLoss: 0.016032 \t Elapsed time :1.36 s\nTrain Epoch: 2 [22400/60000 (37%)]\tLoss: 0.026525 \t Elapsed time :1.57 s\nTrain Epoch: 2 [25600/60000 (43%)]\tLoss: 0.005479 \t Elapsed time :1.78 s\nTrain Epoch: 2 [28800/60000 (48%)]\tLoss: 0.054360 \t Elapsed time :1.99 s\nTrain Epoch: 2 [32000/60000 (53%)]\tLoss: 0.005195 \t Elapsed time :2.22 s\nTrain Epoch: 2 [35200/60000 (59%)]\tLoss: 0.047745 \t Elapsed time :2.49 s\nTrain Epoch: 2 [38400/60000 (64%)]\tLoss: 0.022326 \t Elapsed time :2.71 s\nTrain Epoch: 2 [41600/60000 (69%)]\tLoss: 0.041344 \t Elapsed time :2.92 s\nTrain Epoch: 2 [44800/60000 (75%)]\tLoss: 0.133871 \t Elapsed time :3.15 s\nTrain Epoch: 2 [48000/60000 (80%)]\tLoss: 0.006314 \t Elapsed time :3.37 s\nTrain Epoch: 2 [51200/60000 (85%)]\tLoss: 0.094833 \t Elapsed time :3.57 s\nTrain Epoch: 2 [54400/60000 (91%)]\tLoss: 0.063837 \t Elapsed time :3.79 s\nTrain Epoch: 2 [57600/60000 (96%)]\tLoss: 0.083746 \t Elapsed time :3.99 s\nTrain Epoch: 3 [0/60000 (0%)]\tLoss: 0.054806 \t Elapsed time :0.08 s\nTrain Epoch: 3 [3200/60000 (5%)]\tLoss: 0.023312 \t Elapsed time :0.30 s\nTrain Epoch: 3 [6400/60000 (11%)]\tLoss: 0.014295 \t Elapsed time :0.51 s\nTrain Epoch: 3 [9600/60000 (16%)]\tLoss: 0.019779 \t Elapsed time :0.72 s\nTrain Epoch: 3 [12800/60000 (21%)]\tLoss: 0.008920 \t Elapsed time :0.93 s\nTrain Epoch: 3 [16000/60000 (27%)]\tLoss: 0.054555 \t Elapsed time :1.14 s\nTrain Epoch: 3 [19200/60000 (32%)]\tLoss: 0.018942 \t Elapsed time :1.35 s\nTrain Epoch: 3 [22400/60000 (37%)]\tLoss: 0.030130 \t Elapsed time :1.57 s\nTrain Epoch: 3 [25600/60000 (43%)]\tLoss: 0.001291 \t Elapsed time :1.77 s\nTrain Epoch: 3 [28800/60000 (48%)]\tLoss: 0.008611 \t Elapsed time :2.00 s\nTrain Epoch: 3 [32000/60000 (53%)]\tLoss: 0.011777 \t Elapsed time :2.22 s\nTrain Epoch: 3 [35200/60000 (59%)]\tLoss: 0.053702 \t Elapsed time :2.43 s\nTrain Epoch: 3 [38400/60000 (64%)]\tLoss: 0.104571 \t Elapsed time :2.64 s\nTrain Epoch: 3 [41600/60000 (69%)]\tLoss: 0.070660 \t Elapsed time :2.85 s\nTrain Epoch: 3 [44800/60000 (75%)]\tLoss: 0.028299 \t Elapsed time :3.06 s\nTrain Epoch: 3 [48000/60000 (80%)]\tLoss: 0.012453 \t Elapsed time :3.31 s\nTrain Epoch: 3 [51200/60000 (85%)]\tLoss: 0.053755 \t Elapsed time :3.51 s\nTrain Epoch: 3 [54400/60000 (91%)]\tLoss: 0.027536 \t Elapsed time :3.72 s\nTrain Epoch: 3 [57600/60000 (96%)]\tLoss: 0.025948 \t Elapsed time :3.92 s\nTrain Epoch: 4 [0/60000 (0%)]\tLoss: 0.009923 \t Elapsed time :0.08 s\nTrain Epoch: 4 [3200/60000 (5%)]\tLoss: 0.016236 \t Elapsed time :0.35 s\nTrain Epoch: 4 [6400/60000 (11%)]\tLoss: 0.011655 \t Elapsed time :0.58 s\nTrain Epoch: 4 [9600/60000 (16%)]\tLoss: 0.007586 \t Elapsed time :0.79 s\nTrain Epoch: 4 [12800/60000 (21%)]\tLoss: 0.005395 \t Elapsed time :1.02 s\nTrain Epoch: 4 [16000/60000 (27%)]\tLoss: 0.057297 \t Elapsed time :1.23 s\nTrain Epoch: 4 [19200/60000 (32%)]\tLoss: 0.010128 \t Elapsed time :1.45 s\nTrain Epoch: 4 [22400/60000 (37%)]\tLoss: 0.013861 \t Elapsed time :1.65 s\nTrain Epoch: 4 [25600/60000 (43%)]\tLoss: 0.061123 \t Elapsed time :1.87 s\nTrain Epoch: 4 [28800/60000 (48%)]\tLoss: 0.022196 \t Elapsed time :2.08 s\nTrain Epoch: 4 [32000/60000 (53%)]\tLoss: 0.113930 \t Elapsed time :2.29 s\nTrain Epoch: 4 [35200/60000 (59%)]\tLoss: 0.020358 \t Elapsed time :2.52 s\nTrain Epoch: 4 [38400/60000 (64%)]\tLoss: 0.080885 \t Elapsed time :2.73 s\nTrain Epoch: 4 [41600/60000 (69%)]\tLoss: 0.004718 \t Elapsed time :2.96 s\nTrain Epoch: 4 [44800/60000 (75%)]\tLoss: 0.002717 \t Elapsed time :3.16 s\nTrain Epoch: 4 [48000/60000 (80%)]\tLoss: 0.009297 \t Elapsed time :3.37 s\nTrain Epoch: 4 [51200/60000 (85%)]\tLoss: 0.007568 \t Elapsed time :3.60 s\nTrain Epoch: 4 [54400/60000 (91%)]\tLoss: 0.057038 \t Elapsed time :3.80 s\nTrain Epoch: 4 [57600/60000 (96%)]\tLoss: 0.002620 \t Elapsed time :4.03 s\nTrain Epoch: 5 [0/60000 (0%)]\tLoss: 0.016335 \t Elapsed time :0.08 s\nTrain Epoch: 5 [3200/60000 (5%)]\tLoss: 0.014982 \t Elapsed time :0.30 s\nTrain Epoch: 5 [6400/60000 (11%)]\tLoss: 0.061169 \t Elapsed time :0.50 s\nTrain Epoch: 5 [9600/60000 (16%)]\tLoss: 0.007455 \t Elapsed time :0.71 s\nTrain Epoch: 5 [12800/60000 (21%)]\tLoss: 0.001376 \t Elapsed time :0.91 s\nTrain Epoch: 5 [16000/60000 (27%)]\tLoss: 0.005618 \t Elapsed time :1.12 s\nTrain Epoch: 5 [19200/60000 (32%)]\tLoss: 0.009940 \t Elapsed time :1.33 s\nTrain Epoch: 5 [22400/60000 (37%)]\tLoss: 0.013545 \t Elapsed time :1.55 s\nTrain Epoch: 5 [25600/60000 (43%)]\tLoss: 0.001499 \t Elapsed time :1.77 s\nTrain Epoch: 5 [28800/60000 (48%)]\tLoss: 0.001141 \t Elapsed time :1.99 s\nTrain Epoch: 5 [32000/60000 (53%)]\tLoss: 0.066142 \t Elapsed time :2.19 s\nTrain Epoch: 5 [35200/60000 (59%)]\tLoss: 0.008860 \t Elapsed time :2.40 s\nTrain Epoch: 5 [38400/60000 (64%)]\tLoss: 0.013363 \t Elapsed time :2.65 s\nTrain Epoch: 5 [41600/60000 (69%)]\tLoss: 0.024665 \t Elapsed time :2.88 s\nTrain Epoch: 5 [44800/60000 (75%)]\tLoss: 0.013225 \t Elapsed time :3.14 s\nTrain Epoch: 5 [48000/60000 (80%)]\tLoss: 0.080115 \t Elapsed time :3.35 s\nTrain Epoch: 5 [51200/60000 (85%)]\tLoss: 0.003448 \t Elapsed time :3.59 s\nTrain Epoch: 5 [54400/60000 (91%)]\tLoss: 0.024145 \t Elapsed time :3.81 s\nTrain Epoch: 5 [57600/60000 (96%)]\tLoss: 0.001950 \t Elapsed time :4.05 s\nTrain Epoch: 6 [0/60000 (0%)]\tLoss: 0.006045 \t Elapsed time :0.08 s\nTrain Epoch: 6 [3200/60000 (5%)]\tLoss: 0.002797 \t Elapsed time :0.31 s\nTrain Epoch: 6 [6400/60000 (11%)]\tLoss: 0.042192 \t Elapsed time :0.53 s\nTrain Epoch: 6 [9600/60000 (16%)]\tLoss: 0.006556 \t Elapsed time :0.75 s\nTrain Epoch: 6 [12800/60000 (21%)]\tLoss: 0.008636 \t Elapsed time :0.96 s\nTrain Epoch: 6 [16000/60000 (27%)]\tLoss: 0.002398 \t Elapsed time :1.16 s\nTrain Epoch: 6 [19200/60000 (32%)]\tLoss: 0.010115 \t Elapsed time :1.38 s\nTrain Epoch: 6 [22400/60000 (37%)]\tLoss: 0.001294 \t Elapsed time :1.60 s\nTrain Epoch: 6 [25600/60000 (43%)]\tLoss: 0.001515 \t Elapsed time :1.81 s\nTrain Epoch: 6 [28800/60000 (48%)]\tLoss: 0.004072 \t Elapsed time :2.02 s\nTrain Epoch: 6 [32000/60000 (53%)]\tLoss: 0.003531 \t Elapsed time :2.23 s\nTrain Epoch: 6 [35200/60000 (59%)]\tLoss: 0.005272 \t Elapsed time :2.45 s\nTrain Epoch: 6 [38400/60000 (64%)]\tLoss: 0.025220 \t Elapsed time :2.68 s\nTrain Epoch: 6 [41600/60000 (69%)]\tLoss: 0.002008 \t Elapsed time :2.88 s\nTrain Epoch: 6 [44800/60000 (75%)]\tLoss: 0.005327 \t Elapsed time :3.08 s\nTrain Epoch: 6 [48000/60000 (80%)]\tLoss: 0.007756 \t Elapsed time :3.30 s\nTrain Epoch: 6 [51200/60000 (85%)]\tLoss: 0.069724 \t Elapsed time :3.51 s\nTrain Epoch: 6 [54400/60000 (91%)]\tLoss: 0.035040 \t Elapsed time :3.80 s\nTrain Epoch: 6 [57600/60000 (96%)]\tLoss: 0.007434 \t Elapsed time :4.01 s\nTrain Epoch: 7 [0/60000 (0%)]\tLoss: 0.005134 \t Elapsed time :0.09 s\nTrain Epoch: 7 [3200/60000 (5%)]\tLoss: 0.001696 \t Elapsed time :0.30 s\nTrain Epoch: 7 [6400/60000 (11%)]\tLoss: 0.008093 \t Elapsed time :0.53 s\nTrain Epoch: 7 [9600/60000 (16%)]\tLoss: 0.001030 \t Elapsed time :0.73 s\nTrain Epoch: 7 [12800/60000 (21%)]\tLoss: 0.005391 \t Elapsed time :0.93 s\nTrain Epoch: 7 [16000/60000 (27%)]\tLoss: 0.008213 \t Elapsed time :1.13 s\nTrain Epoch: 7 [19200/60000 (32%)]\tLoss: 0.008853 \t Elapsed time :1.35 s\nTrain Epoch: 7 [22400/60000 (37%)]\tLoss: 0.001783 \t Elapsed time :1.58 s\nTrain Epoch: 7 [25600/60000 (43%)]\tLoss: 0.001032 \t Elapsed time :1.78 s\nTrain Epoch: 7 [28800/60000 (48%)]\tLoss: 0.001523 \t Elapsed time :1.99 s\nTrain Epoch: 7 [32000/60000 (53%)]\tLoss: 0.007434 \t Elapsed time :2.20 s\nTrain Epoch: 7 [35200/60000 (59%)]\tLoss: 0.017146 \t Elapsed time :2.43 s\nTrain Epoch: 7 [38400/60000 (64%)]\tLoss: 0.007456 \t Elapsed time :2.63 s\nTrain Epoch: 7 [41600/60000 (69%)]\tLoss: 0.026279 \t Elapsed time :2.84 s\nTrain Epoch: 7 [44800/60000 (75%)]\tLoss: 0.001463 \t Elapsed time :3.05 s\nTrain Epoch: 7 [48000/60000 (80%)]\tLoss: 0.044195 \t Elapsed time :3.25 s\nTrain Epoch: 7 [51200/60000 (85%)]\tLoss: 0.003268 \t Elapsed time :3.48 s\nTrain Epoch: 7 [54400/60000 (91%)]\tLoss: 0.097408 \t Elapsed time :3.69 s\nTrain Epoch: 7 [57600/60000 (96%)]\tLoss: 0.012518 \t Elapsed time :3.89 s\nTrain Epoch: 8 [0/60000 (0%)]\tLoss: 0.057498 \t Elapsed time :0.08 s\nTrain Epoch: 8 [3200/60000 (5%)]\tLoss: 0.001503 \t Elapsed time :0.30 s\nTrain Epoch: 8 [6400/60000 (11%)]\tLoss: 0.004005 \t Elapsed time :0.53 s\nTrain Epoch: 8 [9600/60000 (16%)]\tLoss: 0.001761 \t Elapsed time :0.75 s\nTrain Epoch: 8 [12800/60000 (21%)]\tLoss: 0.000764 \t Elapsed time :0.96 s\nTrain Epoch: 8 [16000/60000 (27%)]\tLoss: 0.007599 \t Elapsed time :1.18 s\nTrain Epoch: 8 [19200/60000 (32%)]\tLoss: 0.001797 \t Elapsed time :1.43 s\nTrain Epoch: 8 [22400/60000 (37%)]\tLoss: 0.000327 \t Elapsed time :1.68 s\nTrain Epoch: 8 [25600/60000 (43%)]\tLoss: 0.017786 \t Elapsed time :1.88 s\nTrain Epoch: 8 [28800/60000 (48%)]\tLoss: 0.006098 \t Elapsed time :2.09 s\nTrain Epoch: 8 [32000/60000 (53%)]\tLoss: 0.030369 \t Elapsed time :2.31 s\nTrain Epoch: 8 [35200/60000 (59%)]\tLoss: 0.019664 \t Elapsed time :2.56 s\nTrain Epoch: 8 [38400/60000 (64%)]\tLoss: 0.042835 \t Elapsed time :2.77 s\nTrain Epoch: 8 [41600/60000 (69%)]\tLoss: 0.001190 \t Elapsed time :3.02 s\nTrain Epoch: 8 [44800/60000 (75%)]\tLoss: 0.006187 \t Elapsed time :3.22 s\nTrain Epoch: 8 [48000/60000 (80%)]\tLoss: 0.000227 \t Elapsed time :3.46 s\nTrain Epoch: 8 [51200/60000 (85%)]\tLoss: 0.003273 \t Elapsed time :3.66 s\nTrain Epoch: 8 [54400/60000 (91%)]\tLoss: 0.003797 \t Elapsed time :3.89 s\nTrain Epoch: 8 [57600/60000 (96%)]\tLoss: 0.017769 \t Elapsed time :4.10 s\nTrain Epoch: 9 [0/60000 (0%)]\tLoss: 0.000703 \t Elapsed time :0.08 s\nTrain Epoch: 9 [3200/60000 (5%)]\tLoss: 0.000532 \t Elapsed time :0.32 s\nTrain Epoch: 9 [6400/60000 (11%)]\tLoss: 0.007470 \t Elapsed time :0.55 s\nTrain Epoch: 9 [9600/60000 (16%)]\tLoss: 0.020726 \t Elapsed time :0.75 s\nTrain Epoch: 9 [12800/60000 (21%)]\tLoss: 0.006701 \t Elapsed time :0.97 s\nTrain Epoch: 9 [16000/60000 (27%)]\tLoss: 0.057467 \t Elapsed time :1.19 s\nTrain Epoch: 9 [19200/60000 (32%)]\tLoss: 0.002911 \t Elapsed time :1.44 s\nTrain Epoch: 9 [22400/60000 (37%)]\tLoss: 0.017272 \t Elapsed time :1.65 s\nTrain Epoch: 9 [25600/60000 (43%)]\tLoss: 0.001716 \t Elapsed time :1.87 s\nTrain Epoch: 9 [28800/60000 (48%)]\tLoss: 0.010501 \t Elapsed time :2.10 s\nTrain Epoch: 9 [32000/60000 (53%)]\tLoss: 0.003456 \t Elapsed time :2.34 s\nTrain Epoch: 9 [35200/60000 (59%)]\tLoss: 0.004297 \t Elapsed time :2.54 s\nTrain Epoch: 9 [38400/60000 (64%)]\tLoss: 0.001802 \t Elapsed time :2.75 s\nTrain Epoch: 9 [41600/60000 (69%)]\tLoss: 0.009653 \t Elapsed time :2.96 s\nTrain Epoch: 9 [44800/60000 (75%)]\tLoss: 0.032593 \t Elapsed time :3.17 s\nTrain Epoch: 9 [48000/60000 (80%)]\tLoss: 0.000691 \t Elapsed time :3.40 s\nTrain Epoch: 9 [51200/60000 (85%)]\tLoss: 0.001454 \t Elapsed time :3.60 s\nTrain Epoch: 9 [54400/60000 (91%)]\tLoss: 0.001658 \t Elapsed time :3.80 s\nTrain Epoch: 9 [57600/60000 (96%)]\tLoss: 0.067123 \t Elapsed time :4.01 s\nTotal time to train model :40311.47434902191 s\n"
    }
   ],
   "source": [
    "# Training nn\n",
    "\n",
    "model = Net()\n",
    "model.to(device) # To transfer to GPU if available\n",
    "optimizer = torch.optim.Adam(model.parameters(),lr=3e-4)\n",
    "calculate_loss = nn.CrossEntropyLoss()\n",
    "total_time = 0\n",
    "\n",
    "for epoch in range(10):\n",
    "    t0 = time.time() #start timer\n",
    "    model.train()\n",
    "\n",
    "    for batch_idx, data_set in enumerate(train_loader):\n",
    "        optimizer.zero_grad()  # Clear the old gradients from last step  \n",
    "        data , labels = data_set\n",
    "        data = data.to(device)\n",
    "        labels = labels.to(device)\n",
    "        data = data.view(-1,28*28)\n",
    "        output = model(data)   #forward\n",
    "        output.to(device)\n",
    "        loss = calculate_loss(output,labels) #calculate loss\n",
    "        loss.backward()\n",
    "        optimizer.step()\n",
    "\n",
    "        # program timing\n",
    "        torch.cuda.synchronize() \n",
    "        t1 = time.time()\n",
    "        eta = t1-t0\n",
    "        total_time +=eta\n",
    "        if batch_idx % 100 == 0:\n",
    "            loss_data = loss.data\n",
    "            #train_losses.append(loss_data)\n",
    "            print(\n",
    "                'Train Epoch: {} [{}/{} ({:.0f}%)]\\tLoss: {:.6f} \\t Elapsed time :{:.2f} s'.\n",
    "                format(epoch, batch_idx * len(data), len(train_loader.dataset),100. * batch_idx / len(train_loader), loss_data,(eta)))\n",
    "\n",
    "print('Total time to train model :{} s'.format(total_time))"
   ]
  },
  {
   "source": [
    "Total time to train model on GPU:40615.34852838516 s \n",
    "Total time to train model on CPU:62252.999192237854 s "
   ],
   "cell_type": "markdown",
   "metadata": {}
  },
  {
   "cell_type": "code",
   "execution_count": 6,
   "metadata": {
    "tags": []
   },
   "outputs": [
    {
     "output_type": "stream",
     "name": "stdout",
     "text": "The testing set accuracy of the network is: 79 %\n"
    }
   ],
   "source": [
    "    # Predicting\n",
    "\n",
    "    correct, total = 0 , 0\n",
    "    predictions = []\n",
    "    model.eval()\n",
    "\n",
    "    for i, data_set in enumerate(test_loader):\n",
    "        data, labels = data_set\n",
    "        data, labels = data.to(device), labels.to(device)\n",
    "        data = data.view(-1,28*28)\n",
    "        output = model(data)\n",
    "        _, predicted = torch.max(output.data,1)\n",
    "        predictions.append(output)\n",
    "        total += labels.size(0)\n",
    "        correct += (predicted == labels).sum().item()\n",
    "\n",
    "    print('The testing set accuracy of the network is: %d %%' % (100 * correct / total))\n"
   ]
  },
  {
   "cell_type": "code",
   "execution_count": null,
   "metadata": {},
   "outputs": [],
   "source": []
  }
 ]
}