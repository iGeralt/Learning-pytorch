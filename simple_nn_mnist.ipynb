{
 "metadata": {
  "language_info": {
   "codemirror_mode": {
    "name": "ipython",
    "version": 3
   },
   "file_extension": ".py",
   "mimetype": "text/x-python",
   "name": "python",
   "nbconvert_exporter": "python",
   "pygments_lexer": "ipython3",
   "version": "3.8.5-final"
  },
  "orig_nbformat": 2,
  "kernelspec": {
   "name": "python_defaultSpec_1600462054930",
   "display_name": "Python 3.8.5 64-bit"
  }
 },
 "nbformat": 4,
 "nbformat_minor": 2,
 "cells": [
  {
   "cell_type": "code",
   "execution_count": 1,
   "metadata": {},
   "outputs": [],
   "source": [
    "import torch\n",
    "import torchvision\n",
    "import torch.nn as nn\n",
    "import torch.nn.functional as F\n",
    "import torchvision.transforms as transforms\n",
    "import time"
   ]
  },
  {
   "cell_type": "code",
   "execution_count": 2,
   "metadata": {},
   "outputs": [
    {
     "output_type": "execute_result",
     "data": {
      "text/plain": "device(type='cuda')"
     },
     "metadata": {},
     "execution_count": 2
    }
   ],
   "source": [
    "device = torch.device('cuda' if torch.cuda.is_available() else 'cpu')\n",
    "device"
   ]
  },
  {
   "cell_type": "code",
   "execution_count": 3,
   "metadata": {
    "tags": []
   },
   "outputs": [],
   "source": [
    "# Prepare dataset\n",
    "transform = transforms.Compose([transforms.ToTensor(),transforms.Normalize(mean=0.1307,std=0.3081)])\n",
    "\n",
    "train_set = torchvision.datasets.MNIST(root = \"./dataset\",train=True,download=False,transform=transform)  #Make download == True to download dataset\n",
    "test_set = torchvision.datasets.MNIST(root =\"./dataset\",train=False,download=False,transform=transform)\n",
    "\n",
    "train_loader = torch.utils.data.DataLoader(train_set,batch_size=32,shuffle=True,num_workers=4)\n",
    "test_loader = torch.utils.data.DataLoader(test_set,batch_size=32,shuffle=True,num_workers=4)"
   ]
  },
  {
   "cell_type": "code",
   "execution_count": 4,
   "metadata": {},
   "outputs": [],
   "source": [
    "# Building neural net\n",
    "class Net(nn.Module):\n",
    "    def __init__(self):\n",
    "        super(Net,self).__init__()\n",
    "        self.fc1 = nn.Linear(28*28*1,500)\n",
    "        self.fc2 = nn.Linear(500,10)\n",
    "    \n",
    "    def forward(self,x):\n",
    "        x = F.relu(self.fc1(x))\n",
    "        x = F.relu(self.fc2(x))\n",
    "        return x"
   ]
  },
  {
   "cell_type": "code",
   "execution_count": 11,
   "metadata": {
    "tags": []
   },
   "outputs": [
    {
     "output_type": "stream",
     "name": "stdout",
     "text": "Train Epoch: 0 [0/60000 (0%)]\tLoss: 2.337177 \t Elapsed time :88.38 ms\nTrain Epoch: 0 [3200/60000 (5%)]\tLoss: 1.169407 \t Elapsed time :269.60 ms\nTrain Epoch: 0 [6400/60000 (11%)]\tLoss: 1.277691 \t Elapsed time :487.64 ms\nTrain Epoch: 0 [9600/60000 (16%)]\tLoss: 1.302252 \t Elapsed time :689.83 ms\nTrain Epoch: 0 [12800/60000 (21%)]\tLoss: 1.011021 \t Elapsed time :901.74 ms\nTrain Epoch: 0 [16000/60000 (27%)]\tLoss: 1.022327 \t Elapsed time :1129.29 ms\nTrain Epoch: 0 [19200/60000 (32%)]\tLoss: 1.335019 \t Elapsed time :1330.10 ms\nTrain Epoch: 0 [22400/60000 (37%)]\tLoss: 0.846700 \t Elapsed time :1543.26 ms\nTrain Epoch: 0 [25600/60000 (43%)]\tLoss: 1.199764 \t Elapsed time :1751.68 ms\nTrain Epoch: 0 [28800/60000 (48%)]\tLoss: 0.551273 \t Elapsed time :1963.28 ms\nTrain Epoch: 0 [32000/60000 (53%)]\tLoss: 1.113915 \t Elapsed time :2200.92 ms\nTrain Epoch: 0 [35200/60000 (59%)]\tLoss: 0.586815 \t Elapsed time :2403.04 ms\nTrain Epoch: 0 [38400/60000 (64%)]\tLoss: 0.609197 \t Elapsed time :2606.19 ms\nTrain Epoch: 0 [41600/60000 (69%)]\tLoss: 0.571975 \t Elapsed time :2813.12 ms\nTrain Epoch: 0 [44800/60000 (75%)]\tLoss: 0.659187 \t Elapsed time :3035.01 ms\nTrain Epoch: 0 [48000/60000 (80%)]\tLoss: 0.843066 \t Elapsed time :3263.22 ms\nTrain Epoch: 0 [51200/60000 (85%)]\tLoss: 0.844251 \t Elapsed time :3463.76 ms\nTrain Epoch: 0 [54400/60000 (91%)]\tLoss: 0.651687 \t Elapsed time :3676.86 ms\nTrain Epoch: 0 [57600/60000 (96%)]\tLoss: 1.096367 \t Elapsed time :3884.84 ms\nTrain Epoch: 1 [0/60000 (0%)]\tLoss: 0.605419 \t Elapsed time :80.82 ms\nTrain Epoch: 1 [3200/60000 (5%)]\tLoss: 0.622659 \t Elapsed time :292.42 ms\nTrain Epoch: 1 [6400/60000 (11%)]\tLoss: 0.824207 \t Elapsed time :503.82 ms\nTrain Epoch: 1 [9600/60000 (16%)]\tLoss: 0.460690 \t Elapsed time :709.63 ms\nTrain Epoch: 1 [12800/60000 (21%)]\tLoss: 0.759215 \t Elapsed time :918.73 ms\nTrain Epoch: 1 [16000/60000 (27%)]\tLoss: 0.391924 \t Elapsed time :1156.76 ms\nTrain Epoch: 1 [19200/60000 (32%)]\tLoss: 0.762121 \t Elapsed time :1352.60 ms\nTrain Epoch: 1 [22400/60000 (37%)]\tLoss: 0.734614 \t Elapsed time :1560.39 ms\nTrain Epoch: 1 [25600/60000 (43%)]\tLoss: 0.628625 \t Elapsed time :1773.61 ms\nTrain Epoch: 1 [28800/60000 (48%)]\tLoss: 0.645766 \t Elapsed time :1981.47 ms\nTrain Epoch: 1 [32000/60000 (53%)]\tLoss: 0.443433 \t Elapsed time :2210.19 ms\nTrain Epoch: 1 [35200/60000 (59%)]\tLoss: 0.589377 \t Elapsed time :2413.27 ms\nTrain Epoch: 1 [38400/60000 (64%)]\tLoss: 0.602629 \t Elapsed time :2625.18 ms\nTrain Epoch: 1 [41600/60000 (69%)]\tLoss: 0.690335 \t Elapsed time :2834.76 ms\nTrain Epoch: 1 [44800/60000 (75%)]\tLoss: 0.557117 \t Elapsed time :3059.82 ms\nTrain Epoch: 1 [48000/60000 (80%)]\tLoss: 0.409107 \t Elapsed time :3294.16 ms\nTrain Epoch: 1 [51200/60000 (85%)]\tLoss: 0.814229 \t Elapsed time :3504.22 ms\nTrain Epoch: 1 [54400/60000 (91%)]\tLoss: 0.612153 \t Elapsed time :3728.27 ms\nTrain Epoch: 1 [57600/60000 (96%)]\tLoss: 0.370667 \t Elapsed time :3929.54 ms\nTrain Epoch: 2 [0/60000 (0%)]\tLoss: 0.697061 \t Elapsed time :77.95 ms\nTrain Epoch: 2 [3200/60000 (5%)]\tLoss: 0.804850 \t Elapsed time :304.62 ms\nTrain Epoch: 2 [6400/60000 (11%)]\tLoss: 0.527900 \t Elapsed time :536.20 ms\nTrain Epoch: 2 [9600/60000 (16%)]\tLoss: 0.349040 \t Elapsed time :733.19 ms\nTrain Epoch: 2 [12800/60000 (21%)]\tLoss: 0.633523 \t Elapsed time :942.05 ms\nTrain Epoch: 2 [16000/60000 (27%)]\tLoss: 1.010983 \t Elapsed time :1171.52 ms\nTrain Epoch: 2 [19200/60000 (32%)]\tLoss: 0.291791 \t Elapsed time :1400.36 ms\nTrain Epoch: 2 [22400/60000 (37%)]\tLoss: 0.311797 \t Elapsed time :1608.56 ms\nTrain Epoch: 2 [25600/60000 (43%)]\tLoss: 0.451927 \t Elapsed time :1825.30 ms\nTrain Epoch: 2 [28800/60000 (48%)]\tLoss: 0.395518 \t Elapsed time :2051.48 ms\nTrain Epoch: 2 [32000/60000 (53%)]\tLoss: 0.936869 \t Elapsed time :2266.00 ms\nTrain Epoch: 2 [35200/60000 (59%)]\tLoss: 0.629172 \t Elapsed time :2479.93 ms\nTrain Epoch: 2 [38400/60000 (64%)]\tLoss: 0.718941 \t Elapsed time :2677.75 ms\nTrain Epoch: 2 [41600/60000 (69%)]\tLoss: 0.511801 \t Elapsed time :2879.74 ms\nTrain Epoch: 2 [44800/60000 (75%)]\tLoss: 0.729695 \t Elapsed time :3117.13 ms\nTrain Epoch: 2 [48000/60000 (80%)]\tLoss: 0.658484 \t Elapsed time :3412.97 ms\nTrain Epoch: 2 [51200/60000 (85%)]\tLoss: 0.560735 \t Elapsed time :3680.78 ms\nTrain Epoch: 2 [54400/60000 (91%)]\tLoss: 0.514664 \t Elapsed time :3932.07 ms\nTrain Epoch: 2 [57600/60000 (96%)]\tLoss: 0.523875 \t Elapsed time :4226.24 ms\nTrain Epoch: 3 [0/60000 (0%)]\tLoss: 0.746452 \t Elapsed time :76.48 ms\nTrain Epoch: 3 [3200/60000 (5%)]\tLoss: 0.616109 \t Elapsed time :344.07 ms\nTrain Epoch: 3 [6400/60000 (11%)]\tLoss: 0.369292 \t Elapsed time :566.16 ms\nTrain Epoch: 3 [9600/60000 (16%)]\tLoss: 0.620327 \t Elapsed time :801.55 ms\nTrain Epoch: 3 [12800/60000 (21%)]\tLoss: 0.541564 \t Elapsed time :1029.06 ms\nTrain Epoch: 3 [16000/60000 (27%)]\tLoss: 0.370435 \t Elapsed time :1234.53 ms\nTrain Epoch: 3 [19200/60000 (32%)]\tLoss: 0.512063 \t Elapsed time :1522.29 ms\nTrain Epoch: 3 [22400/60000 (37%)]\tLoss: 0.936256 \t Elapsed time :1779.35 ms\nTrain Epoch: 3 [25600/60000 (43%)]\tLoss: 0.652729 \t Elapsed time :2174.37 ms\nTrain Epoch: 3 [28800/60000 (48%)]\tLoss: 0.451577 \t Elapsed time :2533.28 ms\nTrain Epoch: 3 [32000/60000 (53%)]\tLoss: 0.376702 \t Elapsed time :2860.31 ms\nTrain Epoch: 3 [35200/60000 (59%)]\tLoss: 0.309546 \t Elapsed time :3088.43 ms\nTrain Epoch: 3 [38400/60000 (64%)]\tLoss: 0.582989 \t Elapsed time :3301.70 ms\nTrain Epoch: 3 [41600/60000 (69%)]\tLoss: 0.600021 \t Elapsed time :3517.92 ms\nTrain Epoch: 3 [44800/60000 (75%)]\tLoss: 0.599200 \t Elapsed time :3728.74 ms\nTrain Epoch: 3 [48000/60000 (80%)]\tLoss: 0.372039 \t Elapsed time :3952.01 ms\nTrain Epoch: 3 [51200/60000 (85%)]\tLoss: 0.509546 \t Elapsed time :4185.88 ms\nTrain Epoch: 3 [54400/60000 (91%)]\tLoss: 0.508258 \t Elapsed time :4391.46 ms\nTrain Epoch: 3 [57600/60000 (96%)]\tLoss: 0.799937 \t Elapsed time :4638.52 ms\nTrain Epoch: 4 [0/60000 (0%)]\tLoss: 0.365738 \t Elapsed time :78.53 ms\nTrain Epoch: 4 [3200/60000 (5%)]\tLoss: 0.720520 \t Elapsed time :369.95 ms\nTrain Epoch: 4 [6400/60000 (11%)]\tLoss: 0.661336 \t Elapsed time :645.61 ms\nTrain Epoch: 4 [9600/60000 (16%)]\tLoss: 0.316249 \t Elapsed time :1057.45 ms\nTrain Epoch: 4 [12800/60000 (21%)]\tLoss: 0.539937 \t Elapsed time :1710.23 ms\nTrain Epoch: 4 [16000/60000 (27%)]\tLoss: 0.672527 \t Elapsed time :2230.26 ms\nTrain Epoch: 4 [19200/60000 (32%)]\tLoss: 0.366620 \t Elapsed time :2658.95 ms\nTrain Epoch: 4 [22400/60000 (37%)]\tLoss: 0.506856 \t Elapsed time :2994.73 ms\nTrain Epoch: 4 [25600/60000 (43%)]\tLoss: 0.433098 \t Elapsed time :3246.30 ms\nTrain Epoch: 4 [28800/60000 (48%)]\tLoss: 0.477300 \t Elapsed time :3471.85 ms\nTrain Epoch: 4 [32000/60000 (53%)]\tLoss: 0.291435 \t Elapsed time :3679.49 ms\nTrain Epoch: 4 [35200/60000 (59%)]\tLoss: 0.903705 \t Elapsed time :3971.26 ms\nTrain Epoch: 4 [38400/60000 (64%)]\tLoss: 0.576627 \t Elapsed time :4314.49 ms\nTrain Epoch: 4 [41600/60000 (69%)]\tLoss: 0.376387 \t Elapsed time :4571.52 ms\nTrain Epoch: 4 [44800/60000 (75%)]\tLoss: 0.353355 \t Elapsed time :4928.86 ms\nTrain Epoch: 4 [48000/60000 (80%)]\tLoss: 0.836422 \t Elapsed time :5258.58 ms\nTrain Epoch: 4 [51200/60000 (85%)]\tLoss: 0.843644 \t Elapsed time :5551.25 ms\nTrain Epoch: 4 [54400/60000 (91%)]\tLoss: 0.432174 \t Elapsed time :5753.71 ms\nTrain Epoch: 4 [57600/60000 (96%)]\tLoss: 0.305759 \t Elapsed time :6046.95 ms\nTrain Epoch: 5 [0/60000 (0%)]\tLoss: 0.220675 \t Elapsed time :74.03 ms\nTrain Epoch: 5 [3200/60000 (5%)]\tLoss: 0.577161 \t Elapsed time :293.14 ms\nTrain Epoch: 5 [6400/60000 (11%)]\tLoss: 0.308992 \t Elapsed time :603.21 ms\nTrain Epoch: 5 [9600/60000 (16%)]\tLoss: 0.465970 \t Elapsed time :857.08 ms\nTrain Epoch: 5 [12800/60000 (21%)]\tLoss: 0.546365 \t Elapsed time :1065.56 ms\nTrain Epoch: 5 [16000/60000 (27%)]\tLoss: 0.546667 \t Elapsed time :1288.54 ms\nTrain Epoch: 5 [19200/60000 (32%)]\tLoss: 0.432326 \t Elapsed time :1510.29 ms\nTrain Epoch: 5 [22400/60000 (37%)]\tLoss: 0.773376 \t Elapsed time :1726.50 ms\nTrain Epoch: 5 [25600/60000 (43%)]\tLoss: 0.470394 \t Elapsed time :1946.72 ms\nTrain Epoch: 5 [28800/60000 (48%)]\tLoss: 0.520677 \t Elapsed time :2158.97 ms\nTrain Epoch: 5 [32000/60000 (53%)]\tLoss: 0.438499 \t Elapsed time :2379.10 ms\nTrain Epoch: 5 [35200/60000 (59%)]\tLoss: 0.848094 \t Elapsed time :2591.94 ms\nTrain Epoch: 5 [38400/60000 (64%)]\tLoss: 0.370285 \t Elapsed time :2811.08 ms\nTrain Epoch: 5 [41600/60000 (69%)]\tLoss: 0.373745 \t Elapsed time :3031.28 ms\nTrain Epoch: 5 [44800/60000 (75%)]\tLoss: 0.526572 \t Elapsed time :3236.54 ms\nTrain Epoch: 5 [48000/60000 (80%)]\tLoss: 0.437741 \t Elapsed time :3489.96 ms\nTrain Epoch: 5 [51200/60000 (85%)]\tLoss: 0.650073 \t Elapsed time :3693.61 ms\nTrain Epoch: 5 [54400/60000 (91%)]\tLoss: 0.375571 \t Elapsed time :3927.81 ms\nTrain Epoch: 5 [57600/60000 (96%)]\tLoss: 0.073266 \t Elapsed time :4147.54 ms\nTrain Epoch: 6 [0/60000 (0%)]\tLoss: 0.727676 \t Elapsed time :77.49 ms\nTrain Epoch: 6 [3200/60000 (5%)]\tLoss: 0.319641 \t Elapsed time :292.35 ms\nTrain Epoch: 6 [6400/60000 (11%)]\tLoss: 0.589661 \t Elapsed time :530.55 ms\nTrain Epoch: 6 [9600/60000 (16%)]\tLoss: 0.649686 \t Elapsed time :742.06 ms\nTrain Epoch: 6 [12800/60000 (21%)]\tLoss: 0.652859 \t Elapsed time :951.00 ms\nTrain Epoch: 6 [16000/60000 (27%)]\tLoss: 0.377961 \t Elapsed time :1167.19 ms\nTrain Epoch: 6 [19200/60000 (32%)]\tLoss: 0.227205 \t Elapsed time :1390.82 ms\nTrain Epoch: 6 [22400/60000 (37%)]\tLoss: 0.722552 \t Elapsed time :1620.65 ms\nTrain Epoch: 6 [25600/60000 (43%)]\tLoss: 0.689521 \t Elapsed time :1834.94 ms\nTrain Epoch: 6 [28800/60000 (48%)]\tLoss: 0.449444 \t Elapsed time :2054.97 ms\nTrain Epoch: 6 [32000/60000 (53%)]\tLoss: 0.649553 \t Elapsed time :2275.95 ms\nTrain Epoch: 6 [35200/60000 (59%)]\tLoss: 0.577849 \t Elapsed time :2487.40 ms\nTrain Epoch: 6 [38400/60000 (64%)]\tLoss: 0.514550 \t Elapsed time :2715.44 ms\nTrain Epoch: 6 [41600/60000 (69%)]\tLoss: 0.581038 \t Elapsed time :2924.55 ms\nTrain Epoch: 6 [44800/60000 (75%)]\tLoss: 0.581961 \t Elapsed time :3138.40 ms\nTrain Epoch: 6 [48000/60000 (80%)]\tLoss: 0.360870 \t Elapsed time :3363.02 ms\nTrain Epoch: 6 [51200/60000 (85%)]\tLoss: 0.659010 \t Elapsed time :3589.57 ms\nTrain Epoch: 6 [54400/60000 (91%)]\tLoss: 0.814610 \t Elapsed time :3792.18 ms\nTrain Epoch: 6 [57600/60000 (96%)]\tLoss: 0.432877 \t Elapsed time :3993.48 ms\nTrain Epoch: 7 [0/60000 (0%)]\tLoss: 0.590522 \t Elapsed time :75.95 ms\nTrain Epoch: 7 [3200/60000 (5%)]\tLoss: 0.598092 \t Elapsed time :291.68 ms\nTrain Epoch: 7 [6400/60000 (11%)]\tLoss: 0.288507 \t Elapsed time :502.43 ms\nTrain Epoch: 7 [9600/60000 (16%)]\tLoss: 0.436225 \t Elapsed time :711.86 ms\nTrain Epoch: 7 [12800/60000 (21%)]\tLoss: 0.456976 \t Elapsed time :932.13 ms\nTrain Epoch: 7 [16000/60000 (27%)]\tLoss: 0.432258 \t Elapsed time :1143.07 ms\nTrain Epoch: 7 [19200/60000 (32%)]\tLoss: 0.569795 \t Elapsed time :1381.08 ms\nTrain Epoch: 7 [22400/60000 (37%)]\tLoss: 0.584640 \t Elapsed time :1595.56 ms\nTrain Epoch: 7 [25600/60000 (43%)]\tLoss: 0.291409 \t Elapsed time :1804.29 ms\nTrain Epoch: 7 [28800/60000 (48%)]\tLoss: 0.504544 \t Elapsed time :2013.87 ms\nTrain Epoch: 7 [32000/60000 (53%)]\tLoss: 0.301469 \t Elapsed time :2242.57 ms\nTrain Epoch: 7 [35200/60000 (59%)]\tLoss: 0.504017 \t Elapsed time :2477.08 ms\nTrain Epoch: 7 [38400/60000 (64%)]\tLoss: 0.382499 \t Elapsed time :2680.21 ms\nTrain Epoch: 7 [41600/60000 (69%)]\tLoss: 0.574244 \t Elapsed time :2902.85 ms\nTrain Epoch: 7 [44800/60000 (75%)]\tLoss: 0.522123 \t Elapsed time :3160.21 ms\nTrain Epoch: 7 [48000/60000 (80%)]\tLoss: 0.667367 \t Elapsed time :3511.81 ms\nTrain Epoch: 7 [51200/60000 (85%)]\tLoss: 0.312135 \t Elapsed time :3732.61 ms\nTrain Epoch: 7 [54400/60000 (91%)]\tLoss: 0.378183 \t Elapsed time :3938.60 ms\nTrain Epoch: 7 [57600/60000 (96%)]\tLoss: 0.580870 \t Elapsed time :4153.08 ms\nTrain Epoch: 8 [0/60000 (0%)]\tLoss: 0.440681 \t Elapsed time :83.14 ms\nTrain Epoch: 8 [3200/60000 (5%)]\tLoss: 0.511065 \t Elapsed time :331.90 ms\nTrain Epoch: 8 [6400/60000 (11%)]\tLoss: 0.581629 \t Elapsed time :579.53 ms\nTrain Epoch: 8 [9600/60000 (16%)]\tLoss: 0.642930 \t Elapsed time :831.88 ms\nTrain Epoch: 8 [12800/60000 (21%)]\tLoss: 0.432130 \t Elapsed time :1060.42 ms\nTrain Epoch: 8 [16000/60000 (27%)]\tLoss: 0.503957 \t Elapsed time :1265.59 ms\nTrain Epoch: 8 [19200/60000 (32%)]\tLoss: 0.576912 \t Elapsed time :1492.19 ms\nTrain Epoch: 8 [22400/60000 (37%)]\tLoss: 0.432891 \t Elapsed time :1808.34 ms\nTrain Epoch: 8 [25600/60000 (43%)]\tLoss: 0.527166 \t Elapsed time :2142.15 ms\nTrain Epoch: 8 [28800/60000 (48%)]\tLoss: 0.434443 \t Elapsed time :2505.60 ms\nTrain Epoch: 8 [32000/60000 (53%)]\tLoss: 0.648138 \t Elapsed time :2809.22 ms\nTrain Epoch: 8 [35200/60000 (59%)]\tLoss: 0.452491 \t Elapsed time :3103.97 ms\nTrain Epoch: 8 [38400/60000 (64%)]\tLoss: 0.297906 \t Elapsed time :3309.43 ms\nTrain Epoch: 8 [41600/60000 (69%)]\tLoss: 0.360195 \t Elapsed time :3532.33 ms\nTrain Epoch: 8 [44800/60000 (75%)]\tLoss: 0.576601 \t Elapsed time :3744.41 ms\nTrain Epoch: 8 [48000/60000 (80%)]\tLoss: 0.436722 \t Elapsed time :3961.93 ms\nTrain Epoch: 8 [51200/60000 (85%)]\tLoss: 0.757106 \t Elapsed time :4207.49 ms\nTrain Epoch: 8 [54400/60000 (91%)]\tLoss: 0.366138 \t Elapsed time :4418.84 ms\nTrain Epoch: 8 [57600/60000 (96%)]\tLoss: 0.659872 \t Elapsed time :4622.95 ms\nTrain Epoch: 9 [0/60000 (0%)]\tLoss: 0.432710 \t Elapsed time :76.95 ms\nTrain Epoch: 9 [3200/60000 (5%)]\tLoss: 0.513825 \t Elapsed time :301.46 ms\nTrain Epoch: 9 [6400/60000 (11%)]\tLoss: 0.649455 \t Elapsed time :519.82 ms\nTrain Epoch: 9 [9600/60000 (16%)]\tLoss: 0.216562 \t Elapsed time :740.68 ms\nTrain Epoch: 9 [12800/60000 (21%)]\tLoss: 0.220711 \t Elapsed time :949.87 ms\nTrain Epoch: 9 [16000/60000 (27%)]\tLoss: 0.671005 \t Elapsed time :1152.98 ms\nTrain Epoch: 9 [19200/60000 (32%)]\tLoss: 0.360104 \t Elapsed time :1398.34 ms\nTrain Epoch: 9 [22400/60000 (37%)]\tLoss: 0.835496 \t Elapsed time :1623.96 ms\nTrain Epoch: 9 [25600/60000 (43%)]\tLoss: 0.660297 \t Elapsed time :1849.44 ms\nTrain Epoch: 9 [28800/60000 (48%)]\tLoss: 0.224199 \t Elapsed time :2093.00 ms\nTrain Epoch: 9 [32000/60000 (53%)]\tLoss: 0.567961 \t Elapsed time :2317.31 ms\nTrain Epoch: 9 [35200/60000 (59%)]\tLoss: 0.360356 \t Elapsed time :2559.15 ms\nTrain Epoch: 9 [38400/60000 (64%)]\tLoss: 0.288768 \t Elapsed time :2756.43 ms\nTrain Epoch: 9 [41600/60000 (69%)]\tLoss: 0.265570 \t Elapsed time :2976.04 ms\nTrain Epoch: 9 [44800/60000 (75%)]\tLoss: 0.294407 \t Elapsed time :3181.61 ms\nTrain Epoch: 9 [48000/60000 (80%)]\tLoss: 0.738160 \t Elapsed time :3432.75 ms\nTrain Epoch: 9 [51200/60000 (85%)]\tLoss: 0.577879 \t Elapsed time :3698.15 ms\nTrain Epoch: 9 [54400/60000 (91%)]\tLoss: 0.447226 \t Elapsed time :3903.98 ms\nTrain Epoch: 9 [57600/60000 (96%)]\tLoss: 0.726129 \t Elapsed time :4112.17 ms\n"
    }
   ],
   "source": [
    "# Training nn\n",
    "\n",
    "model = Net()\n",
    "model.to(device) # To transfer to GPU if available\n",
    "optimizer = torch.optim.Adam(model.parameters(),lr=3e-4)\n",
    "calculate_loss = nn.CrossEntropyLoss()\n",
    "\n",
    "for epoch in range(10):\n",
    "    t0 = time.time() #start timer\n",
    "    model.train()\n",
    "\n",
    "    for batch_idx, data_set in enumerate(train_loader):\n",
    "        optimizer.zero_grad()  # Clear the old gradients from last step  \n",
    "        data , labels = data_set\n",
    "        data = data.to(device)\n",
    "        labels = labels.to(device)\n",
    "        data = data.view(-1,28*28)\n",
    "        output = model(data)   #forward\n",
    "        output.to(device)\n",
    "        loss = calculate_loss(output,labels) #calculate loss\n",
    "        loss.backward()\n",
    "        optimizer.step()\n",
    "\n",
    "        # program timing\n",
    "        torch.cuda.synchronize() \n",
    "        t1 = time.time()\n",
    "        eta = t1-t0\n",
    "\n",
    "        if batch_idx % 100 == 0:\n",
    "            loss_data = loss.data\n",
    "            #train_losses.append(loss_data)\n",
    "            print(\n",
    "                'Train Epoch: {} [{}/{} ({:.0f}%)]\\tLoss: {:.6f} \\t Elapsed time :{:.2f} ms'.\n",
    "                format(epoch, batch_idx * len(data), len(train_loader.dataset),100. * batch_idx / len(train_loader), loss_data,((eta)*1000)))\n",
    "\n",
    "\n"
   ]
  },
  {
   "cell_type": "code",
   "execution_count": 6,
   "metadata": {
    "tags": []
   },
   "outputs": [
    {
     "output_type": "stream",
     "name": "stdout",
     "text": "The testing set accuracy of the network is: 79 %\n"
    }
   ],
   "source": [
    "    # Predicting\n",
    "\n",
    "    correct, total = 0 , 0\n",
    "    predictions = []\n",
    "    model.eval()\n",
    "\n",
    "    for i, data_set in enumerate(test_loader):\n",
    "        data, labels = data_set\n",
    "        data, labels = data.to(device), labels.to(device)\n",
    "        data = data.view(-1,28*28)\n",
    "        output = model(data)\n",
    "        _, predicted = torch.max(output.data,1)\n",
    "        predictions.append(output)\n",
    "        total += labels.size(0)\n",
    "        correct += (predicted == labels).sum().item()\n",
    "\n",
    "    print('The testing set accuracy of the network is: %d %%' % (100 * correct / total))\n"
   ]
  },
  {
   "cell_type": "code",
   "execution_count": null,
   "metadata": {},
   "outputs": [],
   "source": []
  }
 ]
}